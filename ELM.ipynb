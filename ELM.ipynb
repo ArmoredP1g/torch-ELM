{
 "cells": [
  {
   "cell_type": "code",
   "execution_count": 1,
   "metadata": {},
   "outputs": [],
   "source": [
    "import torch\n",
    "import torch.nn as nn\n",
    "import torch.nn.functional as F\n",
    "import pandas as pd\n",
    "import random"
   ]
  },
  {
   "attachments": {},
   "cell_type": "markdown",
   "metadata": {},
   "source": [
    "## basic ELM"
   ]
  },
  {
   "cell_type": "code",
   "execution_count": 2,
   "metadata": {},
   "outputs": [],
   "source": [
    "class ELM(nn.Module):\n",
    "    def __init__(self, **kwargs):\n",
    "        super().__init__()\n",
    "\n",
    "        # default_args\n",
    "        self.args = {\n",
    "            'input_dim': 32,                   # 输入层维度为 32\n",
    "            'output_dim': 24,                  # 输出层维度为 24\n",
    "            'hidden_dim': 64,                   # 隐藏层维度为 8\n",
    "            'activation_fun': 'sigmoid'        # 激活函数为 sigmoid\n",
    "        }\n",
    "\n",
    "        self.args.update(kwargs)              # 用 kwargs 更新默认参数\n",
    "\n",
    "        self.activation_fun = getattr(F, self.args[\"activation_fun\"])  # 获取指定的激活函数\n",
    "\n",
    "        self.fc1 = nn.Linear(self.args['input_dim'], self.args['hidden_dim'])   # 定义一个全连接层\n",
    "        self.fc2 = nn.Linear(self.args['hidden_dim'], self.args['output_dim'], bias=False) # 定义另一个全连接层，输出层不需要偏置\n",
    "\n",
    "    def forward(self, x):\n",
    "        with torch.no_grad():   # 不需要反向传播，因此使用 no_grad() 上下文管理器，以减少内存消耗\n",
    "            x = self.activation_fun(self.fc1(x))   # 计算隐藏层的输出\n",
    "            return self.fc2(x)                      # 计算输出层的输出\n",
    "        \n",
    "    def fit(self, data, ground_truth):\n",
    "        # 给定 N 条 data 和对应的 ground_truth，更新 fc2 的参数\n",
    "        \n",
    "        with torch.no_grad():   # 不需要反向传播，同样使用 no_grad() 上下文管理器\n",
    "            hidden_mat = self.activation_fun(self.fc1(data))  # 计算隐藏层的输出\n",
    "\n",
    "            beta = torch.matmul(torch.pinverse(hidden_mat), ground_truth)  # 计算 H 的广义逆，求解 beta\n",
    "            self.fc2.weight = nn.Parameter(beta.T)    # 将 beta 转置后，作为新的权重更新 fc2```的参数\n"
   ]
  },
  {
   "attachments": {},
   "cell_type": "markdown",
   "metadata": {},
   "source": [
    "## TELM"
   ]
  },
  {
   "cell_type": "code",
   "execution_count": 3,
   "metadata": {},
   "outputs": [],
   "source": [
    "class TELM(nn.Module):\n",
    "    def __init__(self, **kwargs):\n",
    "        super().__init__()\n",
    "\n",
    "        # default_args\n",
    "        self.args = {\n",
    "            'input_dim': 32,                   # 输入层维度为 32\n",
    "            'output_dim': 24,                  # 输出层维度为 24\n",
    "            'hidden_dim': 64,                   # 隐藏层维度为 8\n",
    "            # 'activation_fun': 'sigmoid'        # 激活函数为 sigmoid\n",
    "        }\n",
    "\n",
    "        self.args.update(kwargs)              # 用 kwargs 更新默认参数\n",
    "\n",
    "        # self.activation_fun = getattr(F, self.args[\"activation_fun\"])  # 获取指定的激活函数\n",
    "\n",
    "        self.fc1 = nn.Linear(self.args['input_dim'], self.args['hidden_dim'])   # 输入层\n",
    "        self.fc2 = nn.Linear(self.args['hidden_dim'], self.args['hidden_dim'])   # 中间层\n",
    "        self.fc3 = nn.Linear(self.args['hidden_dim'], self.args['output_dim'], bias=False) # 输出层，不需要偏置\n",
    "\n",
    "    def DSIG(self, x):\n",
    "        '''activate fun'''\n",
    "        return (1-torch.exp(-x))/(1+torch.exp(-x))\n",
    "\n",
    "    def DSIG_reverse(self, x):\n",
    "        # return torch.log(2/(1-x))\n",
    "        return -torch.log((1-x+1e-5)/(1+x+1e-5))\n",
    "\n",
    "    def forward(self, x):\n",
    "        with torch.no_grad():   # 不需要反向传播，因此使用 no_grad() 上下文管理器，以减少内存消耗\n",
    "            x = self.DSIG(self.fc1(x))\n",
    "            # x = self.DSIG(self.fc2(x))\n",
    "            return self.fc3(x)                      \n",
    "        \n",
    "    def fit(self, data, ground_truth):\n",
    "        # 给定 N 条 data 和对应的 ground_truth，更新 fc2 的参数\n",
    "        \n",
    "        with torch.no_grad():   # 不需要反向传播，同样使用 no_grad() 上下文管理器\n",
    "            b = data.shape[0]\n",
    "\n",
    "            # 求beta\n",
    "                                                        # batch, input_dim\n",
    "            hidden_mat_1 = self.DSIG(self.fc1(data))    # batch, hidden_dim\n",
    "            beta = torch.matmul(torch.pinverse(hidden_mat_1), ground_truth)  # 计算 H 的广义逆，求解 beta\n",
    "            self.fc3.weight = nn.Parameter(beta.T)    # 将 beta 转置后，作为新的权重更新 fc3的参数\n",
    "\n",
    "            # 求θ和bias\n",
    "            hidden_cat_one = torch.pinverse(torch.cat((hidden_mat_1,torch.ones(b,self.args['hidden_dim'])), dim=1))\n",
    "            reverse_target_mul_betaR = self.DSIG_reverse(torch.matmul(ground_truth, torch.pinverse(beta)))\n",
    "            theta_and_bias = torch.matmul(hidden_cat_one, reverse_target_mul_betaR)\n",
    "            theta = theta_and_bias[0:self.args['hidden_dim']]\n",
    "            bias = theta_and_bias[self.args['hidden_dim']:].sum(dim=0)\n",
    "\n",
    "            self.fc2.weight = nn.Parameter(theta.T)    # 将 theta 转置后，作为新的权重更新 fc3的参数\n",
    "            self.fc2.bias = nn.Parameter(bias)"
   ]
  },
  {
   "attachments": {},
   "cell_type": "markdown",
   "metadata": {},
   "source": [
    "## 处理svc数据"
   ]
  },
  {
   "cell_type": "code",
   "execution_count": 4,
   "metadata": {},
   "outputs": [],
   "source": [
    "def read_SVC_data(file_path):\n",
    "    df = pd.read_excel(file_path, header=None)\n",
    "    data = torch.tensor(df.iloc[2:].values.astype(float), dtype=torch.float32)\n",
    "    target = torch.tensor(df.iloc[1].values.astype(float), dtype=torch.float32).unsqueeze(1)\n",
    "    # min-max normalization\n",
    "    data_min = torch.min(data, dim=0)[0]\n",
    "    data_max = torch.max(data, dim=0)[0]\n",
    "    data_norm = (data - data_min) / (data_max - data_min)\n",
    "    return data_norm.transpose(0,1), target"
   ]
  },
  {
   "cell_type": "code",
   "execution_count": 5,
   "metadata": {},
   "outputs": [],
   "source": [
    "data, target = read_SVC_data(\"C:\\\\Users\\\\29147\\\\Documents\\\\WeChat Files\\\\wxid_7301883019012\\\\FileStorage\\\\File\\\\2023-05\\\\原始数据.xlsx\")"
   ]
  },
  {
   "cell_type": "code",
   "execution_count": 6,
   "metadata": {},
   "outputs": [
    {
     "data": {
      "text/plain": [
       "torch.Size([533, 973])"
      ]
     },
     "execution_count": 6,
     "metadata": {},
     "output_type": "execute_result"
    }
   ],
   "source": [
    "data.shape"
   ]
  },
  {
   "attachments": {},
   "cell_type": "markdown",
   "metadata": {},
   "source": [
    "## 拆分数据集"
   ]
  },
  {
   "cell_type": "code",
   "execution_count": 7,
   "metadata": {},
   "outputs": [],
   "source": [
    "# 按照ground truth的大小对数据进行降序排序\n",
    "sorted_indices = torch.argsort(target, dim=0, descending=False).squeeze()\n",
    "data_sorted = data[sorted_indices]\n",
    "target_sorted = target[sorted_indices]\n",
    "\n",
    "# 分割成5个子数据集，每个数据集中的品位分布大致相同\n",
    "n_splits = 5 # 分割的份数\n",
    "\n",
    "sub_data = []\n",
    "sub_ground_truth = []\n",
    "\n",
    "for i in range(n_splits):\n",
    "    sub_ground_truth.append([])\n",
    "    sub_data.append([])\n",
    "\n",
    "\n",
    "for idx in range(data_sorted.__len__()):\n",
    "    sub_data[idx%n_splits].append(data_sorted[idx].unsqueeze(0))\n",
    "    sub_ground_truth[idx%n_splits].append(target_sorted[idx])\n",
    "\n",
    "\n",
    "# 将数据和标签从list转回tensor\n",
    "for i in range(n_splits):\n",
    "    sub_ground_truth[i] = torch.as_tensor(sub_ground_truth[i], dtype=torch.float32)\n",
    "    sub_data[i] = torch.cat(sub_data[i], dim=0)\n",
    "\n",
    "# sub_ground_truth = torch.cat(sub_ground_truth, dim=0)\n",
    "# sub_data = torch.cat(sub_data, dim=0)\n",
    "\n",
    "# 姑且先用最后一个当验证集，不交叉验证了，写着麻烦\n",
    "train_data = torch.cat(sub_data[:n_splits-1])\n",
    "train_gt = torch.cat(sub_ground_truth[:n_splits-1]).unsqueeze(1)\n",
    "\n",
    "val_data = torch.cat(sub_data[n_splits-1:])\n",
    "val_gt = torch.cat(sub_ground_truth[n_splits-1:]).unsqueeze(1)\n"
   ]
  },
  {
   "cell_type": "code",
   "execution_count": 8,
   "metadata": {},
   "outputs": [],
   "source": [
    "# 创建elm模型对象\n",
    "model_elm = ELM(input_dim=973, hidden_dim=2300, output_dim=1)\n",
    "model_telm = TELM(input_dim=973, hidden_dim=2300, output_dim=1)"
   ]
  },
  {
   "cell_type": "code",
   "execution_count": 9,
   "metadata": {},
   "outputs": [
    {
     "name": "stderr",
     "output_type": "stream",
     "text": [
      "c:\\Users\\29147\\.conda\\envs\\pytorch\\lib\\site-packages\\torch\\nn\\functional.py:1709: UserWarning: nn.functional.sigmoid is deprecated. Use torch.sigmoid instead.\n",
      "  warnings.warn(\"nn.functional.sigmoid is deprecated. Use torch.sigmoid instead.\")\n"
     ]
    }
   ],
   "source": [
    "# 训练\n",
    "model_elm.fit(train_data, train_gt)\n",
    "model_telm.fit(train_data, train_gt)"
   ]
  },
  {
   "cell_type": "code",
   "execution_count": 10,
   "metadata": {},
   "outputs": [
    {
     "name": "stdout",
     "output_type": "stream",
     "text": [
      "真值：tensor([19.6800])， elm预测：tensor([[19.8111]])，telm预测：tensor([[19.6851]])\n"
     ]
    }
   ],
   "source": [
    "# 我随便挑几条数据测试（这块我懒得写了）\n",
    "random_number = random.randint(450, 532)\n",
    "# random_number = random.randint(0, 533)\n",
    "\n",
    "pred1 = model_elm(data[random_number].unsqueeze(0))\n",
    "pred2 = model_telm(data[random_number].unsqueeze(0))\n",
    "ground_truth = target[random_number]\n",
    "\n",
    "print(\"真值：{}， elm预测：{}，telm预测：{}\".format(ground_truth, pred1, pred2))"
   ]
  },
  {
   "attachments": {},
   "cell_type": "markdown",
   "metadata": {},
   "source": [
    "## 评估过程"
   ]
  },
  {
   "cell_type": "code",
   "execution_count": 11,
   "metadata": {},
   "outputs": [
    {
     "data": {
      "text/plain": [
       "torch.Size([427, 973])"
      ]
     },
     "execution_count": 11,
     "metadata": {},
     "output_type": "execute_result"
    }
   ],
   "source": [
    "train_data.shape"
   ]
  },
  {
   "cell_type": "code",
   "execution_count": 12,
   "metadata": {},
   "outputs": [],
   "source": [
    "pred_elm = model_elm(val_data)\n",
    "pred_telm = model_telm(val_data)"
   ]
  },
  {
   "cell_type": "code",
   "execution_count": 13,
   "metadata": {},
   "outputs": [],
   "source": [
    "# 定义R方的函数\n",
    "def r2_score(y_true, y_pred):\n",
    "    # 计算y_true和y_pred的均值\n",
    "    y_true_mean = torch.mean(y_true)\n",
    "    y_pred_mean = torch.mean(y_pred)\n",
    "    # 计算y_true和y_pred的方差\n",
    "    y_true_var = torch.sum((y_true - y_true_mean) ** 2)\n",
    "    y_pred_var = torch.sum((y_pred - y_pred_mean) ** 2)\n",
    "    # 计算y_true和y_pred的协方差\n",
    "    y_true_pred_cov = torch.sum((y_true - y_true_mean) * (y_pred - y_pred_mean))\n",
    "    # 计算R方\n",
    "    r2 = (y_true_pred_cov ** 2) / (y_true_var * y_pred_var)\n",
    "    return r2\n",
    "\n",
    "# 定义评估方法\n",
    "def evaluation(pred, ground_truth):\n",
    "    '''\n",
    "    评估mae和r2\n",
    "    params:\n",
    "        pred:预测\n",
    "        ground_truth:标签\n",
    "    '''\n",
    "    # 定义平均绝对误差的损失函数\n",
    "    l1_loss = torch.nn.L1Loss()\n",
    "\n",
    "    # 计算平均绝对误差\n",
    "    mae = l1_loss(ground_truth, pred)\n",
    "    # 计算R方\n",
    "    r2 = r2_score(ground_truth, pred)\n",
    "\n",
    "    return mae, r2\n",
    "\n",
    "\n",
    "    "
   ]
  },
  {
   "cell_type": "code",
   "execution_count": 14,
   "metadata": {},
   "outputs": [
    {
     "data": {
      "text/plain": [
       "(tensor(12.8187), tensor(1.0712e-05))"
      ]
     },
     "execution_count": 14,
     "metadata": {},
     "output_type": "execute_result"
    }
   ],
   "source": [
    "evaluation(pred_elm, val_gt)"
   ]
  },
  {
   "cell_type": "code",
   "execution_count": 15,
   "metadata": {},
   "outputs": [
    {
     "data": {
      "text/plain": [
       "(tensor(13.5465), tensor(0.0021))"
      ]
     },
     "execution_count": 15,
     "metadata": {},
     "output_type": "execute_result"
    }
   ],
   "source": [
    "evaluation(pred_telm, val_gt)"
   ]
  },
  {
   "cell_type": "code",
   "execution_count": 18,
   "metadata": {},
   "outputs": [],
   "source": [
    "# 定义画图函数\n",
    "\n",
    "import matplotlib.pyplot as plt\n",
    "\n",
    "def plot_mae_r2(mae_elm, r2_elm, mae_telm, r2_telm):\n",
    "  # 创建一个一行两列的画布\n",
    "  fig, (ax1, ax2) = plt.subplots(1, 2)\n",
    "  # 设置画布大小\n",
    "  fig.set_size_inches(10, 5)\n",
    "  # 设置左侧子图的标题和坐标轴标签\n",
    "  ax1.set_title(\"MAE\")\n",
    "  ax1.set_xlabel(\"hidden size\")\n",
    "  ax1.set_ylabel(\"MAE\")\n",
    "  # 设置左侧子图的横坐标刻度间隔为1000\n",
    "#   ax1.xaxis.set_ticks(range(0, max(mae_elm[0], mae_telm[0]) + 1000, 1000))\n",
    "  # 在左侧子图上画两条线段，分别对应ELM和TELM的MAE\n",
    "  ax1.plot(mae_elm[0], mae_elm[1], color=\"blue\", label=\"ELM\")\n",
    "  ax1.plot(mae_telm[0], mae_telm[1], color=\"red\", label=\"TELM\")\n",
    "  # 显示左侧子图的图例\n",
    "  ax1.legend()\n",
    "  # 设置右侧子图的标题和坐标轴标签\n",
    "  ax2.set_title(\"R2\")\n",
    "  ax2.set_xlabel(\"hidden size\")\n",
    "  ax2.set_ylabel(\"R2\")\n",
    "  # 设置右侧子图的横坐标刻度间隔为1000\n",
    "  # ax2.xaxis.set_ticks(range(0, max(r2_elm[0], r2_telm[0]) + 1000, 1000))\n",
    "  # 在右侧子图上画两条线段，分别对应ELM和TELM的R2\n",
    "  ax2.plot(r2_elm[0], r2_elm[1], color=\"blue\", label=\"ELM\")\n",
    "  ax2.plot(r2_telm[0], r2_telm[1], color=\"red\", label=\"TELM\")\n",
    "  # 显示右侧子图的图例\n",
    "  ax2.legend()\n",
    "  # 显示整个画布\n",
    "  plt.show()"
   ]
  },
  {
   "attachments": {},
   "cell_type": "markdown",
   "metadata": {},
   "source": [
    "## 尝试不同hidden size并给出评估曲线"
   ]
  },
  {
   "cell_type": "code",
   "execution_count": 20,
   "metadata": {},
   "outputs": [
    {
     "data": {
      "image/png": "[encoded data removed]",
      "text/plain": [
       "<Figure size 1000x500 with 2 Axes>"
      ]
     },
     "metadata": {},
     "output_type": "display_data"
    }
   ],
   "source": [
    "mae_elm = [[],[]]\n",
    "r2_elm = [[],[]]\n",
    "mae_telm = [[],[]]\n",
    "r2_telm = [[],[]]\n",
    "\n",
    "\n",
    "hidden_size_start = 1000\n",
    "hidden_size_end = 4000\n",
    "\n",
    "\n",
    "hidden_size_cur = hidden_size_start\n",
    "while hidden_size_cur <= hidden_size_end:\n",
    "  mae_elm[0].append(hidden_size_cur)\n",
    "  r2_elm[0].append(hidden_size_cur)\n",
    "  mae_telm[0].append(hidden_size_cur)\n",
    "  r2_telm[0].append(hidden_size_cur)\n",
    "\n",
    "\n",
    "  # 创建elm模型对象\n",
    "  model_elm = ELM(input_dim=973, hidden_dim=hidden_size_cur, output_dim=1)\n",
    "  model_telm = TELM(input_dim=973, hidden_dim=hidden_size_cur, output_dim=1)\n",
    "  # 训练\n",
    "  model_elm.fit(train_data, train_gt)\n",
    "  model_telm.fit(train_data, train_gt)\n",
    "\n",
    "  # 评估\n",
    "  pred_elm = model_elm(val_data)\n",
    "  pred_telm = model_telm(val_data)\n",
    "\n",
    "  mae, r2 = evaluation(pred_elm, val_gt)\n",
    "  mae_elm[1].append(mae)\n",
    "  r2_elm[1].append(r2)\n",
    "\n",
    "  mae, r2 = evaluation(pred_telm, val_gt)\n",
    "  mae_telm[1].append(mae)\n",
    "  r2_telm[1].append(r2)\n",
    "  \n",
    "  # 设置间隔为200\n",
    "  hidden_size_cur += 50\n",
    "\n",
    "\n",
    "plot_mae_r2(mae_elm, r2_elm, mae_telm, r2_telm)"
   ]
  },
  {
   "cell_type": "code",
   "execution_count": null,
   "metadata": {},
   "outputs": [],
   "source": []
  }
 ],
 "metadata": {
  "kernelspec": {
   "display_name": "pytorch",
   "language": "python",
   "name": "python3"
  },
  "language_info": {
   "codemirror_mode": {
    "name": "ipython",
    "version": 3
   },
   "file_extension": ".py",
   "mimetype": "text/x-python",
   "name": "python",
   "nbconvert_exporter": "python",
   "pygments_lexer": "ipython3",
   "version": "3.7.10"
  },
  "orig_nbformat": 4
 },
 "nbformat": 4,
 "nbformat_minor": 2
}
