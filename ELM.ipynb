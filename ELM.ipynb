{
 "cells": [
  {
   "cell_type": "code",
   "execution_count": 1,
   "metadata": {},
   "outputs": [],
   "source": [
    "import torch\n",
    "import torch.nn as nn\n",
    "import torch.nn.functional as F\n",
    "import pandas as pd\n",
    "import random"
   ]
  },
  {
   "cell_type": "code",
   "execution_count": 2,
   "metadata": {},
   "outputs": [
    {
     "data": {
      "text/plain": [
       "'1.12.1'"
      ]
     },
     "execution_count": 2,
     "metadata": {},
     "output_type": "execute_result"
    }
   ],
   "source": [
    "torch.__version__"
   ]
  },
  {
   "attachments": {},
   "cell_type": "markdown",
   "metadata": {},
   "source": [
    "## basic ELM"
   ]
  },
  {
   "cell_type": "code",
   "execution_count": 3,
   "metadata": {},
   "outputs": [],
   "source": [
    "class ELM(nn.Module):\n",
    "    def __init__(self, **kwargs):\n",
    "        super().__init__()\n",
    "\n",
    "        # default_args\n",
    "        self.args = {\n",
    "            'input_dim': 32,                   # 输入层维度为 32\n",
    "            'output_dim': 24,                  # 输出层维度为 24\n",
    "            'hidden_dim': 64,                   # 隐藏层维度为 8\n",
    "            'activation_fun': 'sigmoid'        # 激活函数为 sigmoid\n",
    "        }\n",
    "\n",
    "        self.args.update(kwargs)              # 用 kwargs 更新默认参数\n",
    "\n",
    "        self.activation_fun = getattr(F, self.args[\"activation_fun\"])  # 获取指定的激活函数\n",
    "\n",
    "        self.fc1 = nn.Linear(self.args['input_dim'], self.args['hidden_dim'])   # 定义一个全连接层\n",
    "        self.fc2 = nn.Linear(self.args['hidden_dim'], self.args['output_dim'], bias=False) # 定义另一个全连接层，输出层不需要偏置\n",
    "\n",
    "    def forward(self, x):\n",
    "        with torch.no_grad():   # 不需要反向传播，因此使用 no_grad() 上下文管理器，以减少内存消耗\n",
    "            x = self.activation_fun(self.fc1(x))   # 计算隐藏层的输出\n",
    "            return self.fc2(x)                      # 计算输出层的输出\n",
    "        \n",
    "    def fit(self, data, ground_truth):\n",
    "        # 给定 N 条 data 和对应的 ground_truth，更新 fc2 的参数\n",
    "        \n",
    "        with torch.no_grad():   # 不需要反向传播，同样使用 no_grad() 上下文管理器\n",
    "            hidden_mat = self.activation_fun(self.fc1(data))  # 计算隐藏层的输出\n",
    "\n",
    "            beta = torch.matmul(torch.pinverse(hidden_mat), ground_truth)  # 计算 H 的广义逆，求解 beta\n",
    "            self.fc2.weight = nn.Parameter(beta.T)    # 将 beta 转置后，作为新的权重更新 fc2```的参数\n"
   ]
  },
  {
   "attachments": {},
   "cell_type": "markdown",
   "metadata": {},
   "source": [
    "## TELM"
   ]
  },
  {
   "cell_type": "code",
   "execution_count": 4,
   "metadata": {},
   "outputs": [],
   "source": [
    "class TELM(nn.Module):\n",
    "    def __init__(self, **kwargs):\n",
    "        super().__init__()\n",
    "\n",
    "        # default_args\n",
    "        self.args = {\n",
    "            'input_dim': 32,                   # 输入层维度为 32\n",
    "            'output_dim': 24,                  # 输出层维度为 24\n",
    "            'hidden_dim': 64,                   # 隐藏层维度为 8\n",
    "            # 'activation_fun': 'sigmoid'        # 激活函数为 sigmoid\n",
    "        }\n",
    "\n",
    "        self.args.update(kwargs)              # 用 kwargs 更新默认参数\n",
    "\n",
    "        # self.activation_fun = getattr(F, self.args[\"activation_fun\"])  # 获取指定的激活函数\n",
    "\n",
    "        self.fc1 = nn.Linear(self.args['input_dim'], self.args['hidden_dim'])   # 输入层\n",
    "        self.fc2 = nn.Linear(self.args['hidden_dim'], self.args['hidden_dim'])   # 中间层\n",
    "        self.fc3 = nn.Linear(self.args['hidden_dim'], self.args['output_dim'], bias=False) # 输出层，不需要偏置\n",
    "\n",
    "    def DSIG(self, x):\n",
    "        '''activate fun'''\n",
    "        return (1-torch.exp(-x))/(1+torch.exp(-x))\n",
    "\n",
    "    def DSIG_reverse(self, x):\n",
    "        # return torch.log(2/(1-x))\n",
    "        return -torch.log((1-x+1e-5)/(1+x+1e-5))\n",
    "\n",
    "    def forward(self, x):\n",
    "        with torch.no_grad():   # 不需要反向传播，因此使用 no_grad() 上下文管理器，以减少内存消耗\n",
    "            x = self.DSIG(self.fc1(x))\n",
    "            # x = self.DSIG(self.fc2(x))\n",
    "            return self.fc3(x)                      \n",
    "        \n",
    "    def fit(self, data, ground_truth):\n",
    "        # 给定 N 条 data 和对应的 ground_truth，更新 fc2 的参数\n",
    "        \n",
    "        with torch.no_grad():   # 不需要反向传播，同样使用 no_grad() 上下文管理器\n",
    "            b = data.shape[0]\n",
    "\n",
    "            # 求beta\n",
    "                                                        # batch, input_dim\n",
    "            hidden_mat_1 = self.DSIG(self.fc1(data))    # batch, hidden_dim\n",
    "            beta = torch.matmul(torch.pinverse(hidden_mat_1), ground_truth)  # 计算 H 的广义逆，求解 beta\n",
    "            self.fc3.weight = nn.Parameter(beta.T)    # 将 beta 转置后，作为新的权重更新 fc3的参数\n",
    "\n",
    "            # 求θ和bias\n",
    "            hidden_cat_one = torch.pinverse(torch.cat((hidden_mat_1,torch.ones(b,self.args['hidden_dim'])), dim=1))\n",
    "            reverse_target_mul_betaR = self.DSIG_reverse(torch.matmul(ground_truth, torch.pinverse(beta)))\n",
    "            theta_and_bias = torch.matmul(hidden_cat_one, reverse_target_mul_betaR)\n",
    "            theta = theta_and_bias[0:self.args['hidden_dim']]\n",
    "            bias = theta_and_bias[self.args['hidden_dim']:].sum(dim=0)\n",
    "\n",
    "            self.fc2.weight = nn.Parameter(theta.T)    # 将 theta 转置后，作为新的权重更新 fc3的参数\n",
    "            self.fc2.bias = nn.Parameter(bias)"
   ]
  },
  {
   "attachments": {},
   "cell_type": "markdown",
   "metadata": {},
   "source": [
    "## 处理svc数据"
   ]
  },
  {
   "cell_type": "code",
   "execution_count": 5,
   "metadata": {},
   "outputs": [],
   "source": [
    "def read_SVC_data(file_path, index=False, norm=True):\n",
    "    df = pd.read_excel(file_path, header=None)\n",
    "    data = torch.tensor(df.iloc[2:].values.astype(float), dtype=torch.float32)\n",
    "    target = torch.tensor(df.iloc[1].values.astype(float), dtype=torch.float32).unsqueeze(1)\n",
    "\n",
    "    if index:\n",
    "        avg_pool = nn.AvgPool1d(15,15,1)\n",
    "        data = data.transpose(0,1)\n",
    "        pooled_data = avg_pool(data.unsqueeze(1)).squeeze(1)\n",
    "        NDI = (pooled_data.unsqueeze(1)-pooled_data.unsqueeze(2))/(pooled_data.unsqueeze(1)+pooled_data.unsqueeze(2)+1e-5)\n",
    "        NRI = pooled_data.unsqueeze(1)/(pooled_data.unsqueeze(2)+pooled_data.unsqueeze(1)+1e-5)      # The division operation results in \n",
    "                                                                        # a wide range of RI values, +self in the denominator to \n",
    "                                                                        # stabilizes the model performance\n",
    "\n",
    "        NDI = torch.tril(NDI)\n",
    "        NRI = torch.triu(NRI)\n",
    "        INDEX = NDI + NRI\n",
    "        return INDEX.view(-1, 65 ** 2), target\n",
    "\n",
    "    # min-max normalization\n",
    "    data_min = torch.min(data, dim=0)[0]\n",
    "    data_max = torch.max(data, dim=0)[0]\n",
    "    data_norm = (data - data_min) / (data_max - data_min)\n",
    "    if not norm:\n",
    "        return data.transpose(0,1), target\n",
    "    else:\n",
    "        return data_norm.transpose(0,1), target"
   ]
  },
  {
   "cell_type": "code",
   "execution_count": 6,
   "metadata": {},
   "outputs": [],
   "source": [
    "data, target = read_SVC_data(\"C:\\\\Users\\\\29147\\\\Documents\\\\WeChat Files\\\\wxid_7301883019012\\\\FileStorage\\\\File\\\\2023-05\\\\原始数据.xlsx\", index=True)"
   ]
  },
  {
   "cell_type": "code",
   "execution_count": 7,
   "metadata": {},
   "outputs": [
    {
     "data": {
      "text/plain": [
       "torch.Size([533, 4225])"
      ]
     },
     "execution_count": 7,
     "metadata": {},
     "output_type": "execute_result"
    }
   ],
   "source": [
    "data.shape"
   ]
  },
  {
   "attachments": {},
   "cell_type": "markdown",
   "metadata": {},
   "source": [
    "## 拆分数据集"
   ]
  },
  {
   "cell_type": "code",
   "execution_count": 8,
   "metadata": {},
   "outputs": [],
   "source": [
    "# 按照ground truth的大小对数据进行降序排序\n",
    "sorted_indices = torch.argsort(target, dim=0, descending=False).squeeze()\n",
    "data_sorted = data[sorted_indices]\n",
    "target_sorted = target[sorted_indices]\n",
    "\n",
    "# 分割成5个子数据集，每个数据集中的品位分布大致相同\n",
    "n_splits = 5 # 分割的份数\n",
    "\n",
    "sub_data = []\n",
    "sub_ground_truth = []\n",
    "\n",
    "for i in range(n_splits):\n",
    "    sub_ground_truth.append([])\n",
    "    sub_data.append([])\n",
    "\n",
    "\n",
    "for idx in range(data_sorted.__len__()):\n",
    "    sub_data[idx%n_splits].append(data_sorted[idx].unsqueeze(0))\n",
    "    sub_ground_truth[idx%n_splits].append(target_sorted[idx])\n",
    "\n",
    "\n",
    "# 将数据和标签从list转回tensor\n",
    "for i in range(n_splits):\n",
    "    sub_ground_truth[i] = torch.as_tensor(sub_ground_truth[i], dtype=torch.float32)\n",
    "    sub_data[i] = torch.cat(sub_data[i], dim=0)\n",
    "\n",
    "# sub_ground_truth = torch.cat(sub_ground_truth, dim=0)\n",
    "# sub_data = torch.cat(sub_data, dim=0)\n",
    "\n",
    "# 姑且先用最后一个当验证集，不交叉验证了，写着麻烦\n",
    "train_data = torch.cat(sub_data[0:n_splits-1])\n",
    "train_gt = torch.cat(sub_ground_truth[0:n_splits-1]).unsqueeze(1)\n",
    "\n",
    "val_data = torch.cat(sub_data[n_splits-1:])\n",
    "val_gt = torch.cat(sub_ground_truth[n_splits-1:]).unsqueeze(1)\n"
   ]
  },
  {
   "cell_type": "code",
   "execution_count": 9,
   "metadata": {},
   "outputs": [],
   "source": [
    "# # 创建elm模型对象\n",
    "# model_elm = ELM(input_dim=973, hidden_dim=2300, output_dim=1)\n",
    "# model_telm = TELM(input_dim=973, hidden_dim=2300, output_dim=1)"
   ]
  },
  {
   "cell_type": "code",
   "execution_count": 10,
   "metadata": {},
   "outputs": [],
   "source": [
    "# # 训练\n",
    "# model_elm.fit(train_data, train_gt)\n",
    "# model_telm.fit(train_data, train_gt)"
   ]
  },
  {
   "cell_type": "code",
   "execution_count": 11,
   "metadata": {},
   "outputs": [],
   "source": [
    "# # 我随便挑几条数据测试（这块我懒得写了）\n",
    "# random_number = random.randint(450, 532)\n",
    "# # random_number = random.randint(0, 533)\n",
    "\n",
    "# pred1 = model_elm(data[random_number].unsqueeze(0))\n",
    "# pred2 = model_telm(data[random_number].unsqueeze(0))\n",
    "# ground_truth = target[random_number]\n",
    "\n",
    "# print(\"真值：{}， elm预测：{}，telm预测：{}\".format(ground_truth, pred1, pred2))"
   ]
  },
  {
   "attachments": {},
   "cell_type": "markdown",
   "metadata": {},
   "source": [
    "## 评估过程"
   ]
  },
  {
   "cell_type": "code",
   "execution_count": 12,
   "metadata": {},
   "outputs": [
    {
     "data": {
      "text/plain": [
       "torch.Size([213, 4225])"
      ]
     },
     "execution_count": 12,
     "metadata": {},
     "output_type": "execute_result"
    }
   ],
   "source": [
    "train_data.shape"
   ]
  },
  {
   "cell_type": "code",
   "execution_count": 13,
   "metadata": {},
   "outputs": [],
   "source": [
    "# pred_elm = model_elm(val_data)\n",
    "# pred_telm = model_telm(val_data)"
   ]
  },
  {
   "cell_type": "code",
   "execution_count": 14,
   "metadata": {},
   "outputs": [],
   "source": [
    "# 定义R方的函数\n",
    "def r2_score(output, target):\n",
    "    mean_target = torch.mean(target)\n",
    "    ss_tot = torch.sum((target - mean_target) ** 2)\n",
    "    ss_res = torch.sum((target - output) ** 2)\n",
    "    r2 = 1 - ss_res / ss_tot\n",
    "    return r2\n",
    "\n",
    "# 定义Rmse的函数\n",
    "def rmse(output, target):\n",
    "    mse = torch.nn.MSELoss()\n",
    "    return torch.sqrt(mse(output, target))\n",
    "\n",
    "# 定义评估方法\n",
    "def evaluation(pred, ground_truth):\n",
    "    '''\n",
    "    评估mae和r2\n",
    "    params:\n",
    "        pred:预测\n",
    "        ground_truth:标签\n",
    "    '''\n",
    "    # 定义平均绝对误差的损失函数\n",
    "    l1_loss = torch.nn.L1Loss()\n",
    "\n",
    "    # 计算平均绝对误差\n",
    "    mae = l1_loss(ground_truth, pred)\n",
    "    # 计算R方\n",
    "    r2 = rmse(pred, ground_truth)\n",
    "\n",
    "    return mae, r2\n",
    "    "
   ]
  },
  {
   "cell_type": "code",
   "execution_count": 15,
   "metadata": {},
   "outputs": [],
   "source": [
    "# evaluation(pred_elm, val_gt)"
   ]
  },
  {
   "cell_type": "code",
   "execution_count": null,
   "metadata": {},
   "outputs": [],
   "source": []
  },
  {
   "cell_type": "code",
   "execution_count": 16,
   "metadata": {},
   "outputs": [],
   "source": [
    "# evaluation(pred_telm, val_gt)"
   ]
  },
  {
   "cell_type": "code",
   "execution_count": 17,
   "metadata": {},
   "outputs": [],
   "source": [
    "# 定义画图函数\n",
    "\n",
    "import matplotlib.pyplot as plt\n",
    "\n",
    "def plot_mae_r2(mae_elm, r2_elm, mae_telm, r2_telm):\n",
    "  # 创建一个一行两列的画布\n",
    "  fig, (ax1, ax2) = plt.subplots(1, 2)\n",
    "  # 设置画布大小\n",
    "  fig.set_size_inches(10, 5)\n",
    "  # 设置左侧子图的标题和坐标轴标签\n",
    "  ax1.set_title(\"MAE\")\n",
    "  ax1.set_xlabel(\"hidden size\")\n",
    "  ax1.set_ylabel(\"MAE\")\n",
    "  # 设置左侧子图的横坐标刻度间隔为1000\n",
    "#   ax1.xaxis.set_ticks(range(0, max(mae_elm[0], mae_telm[0]) + 1000, 1000))\n",
    "  # 在左侧子图上画两条线段，分别对应ELM和TELM的MAE\n",
    "  ax1.plot(mae_elm[0], mae_elm[1], color=\"blue\", label=\"ELM\")\n",
    "  ax1.plot(mae_telm[0], mae_telm[1], color=\"red\", label=\"TELM\")\n",
    "  # 显示左侧子图的图例\n",
    "  ax1.legend()\n",
    "  # 设置右侧子图的标题和坐标轴标签\n",
    "  ax2.set_title(\"R2\")\n",
    "  ax2.set_xlabel(\"hidden size\")\n",
    "  ax2.set_ylabel(\"R2\")\n",
    "  # 设置右侧子图的横坐标刻度间隔为1000\n",
    "  # ax2.xaxis.set_ticks(range(0, max(r2_elm[0], r2_telm[0]) + 1000, 1000))\n",
    "  # 在右侧子图上画两条线段，分别对应ELM和TELM的R2\n",
    "  ax2.plot(r2_elm[0], r2_elm[1], color=\"blue\", label=\"ELM\")\n",
    "  ax2.plot(r2_telm[0], r2_telm[1], color=\"red\", label=\"TELM\")\n",
    "  # 显示右侧子图的图例\n",
    "  ax2.legend()\n",
    "  # 显示整个画布\n",
    "  plt.show()"
   ]
  },
  {
   "attachments": {},
   "cell_type": "markdown",
   "metadata": {},
   "source": [
    "## 尝试不同hidden size并给出评估曲线"
   ]
  },
  {
   "cell_type": "code",
   "execution_count": 18,
   "metadata": {},
   "outputs": [
    {
     "name": "stderr",
     "output_type": "stream",
     "text": [
      "c:\\ProgramData\\Miniconda3\\envs\\VC\\lib\\site-packages\\torch\\nn\\functional.py:1960: UserWarning: nn.functional.sigmoid is deprecated. Use torch.sigmoid instead.\n",
      "  warnings.warn(\"nn.functional.sigmoid is deprecated. Use torch.sigmoid instead.\")\n"
     ]
    },
    {
     "data": {
      "image/png": "[encoded data removed]",
      "text/plain": [
       "<Figure size 1000x500 with 2 Axes>"
      ]
     },
     "metadata": {},
     "output_type": "display_data"
    }
   ],
   "source": [
    "mae_elm = [[],[]]\n",
    "r2_elm = [[],[]]\n",
    "mae_telm = [[],[]]\n",
    "r2_telm = [[],[]]\n",
    "\n",
    "\n",
    "hidden_size_start = 10\n",
    "hidden_size_end = 150\n",
    "\n",
    "\n",
    "hidden_size_cur = hidden_size_start\n",
    "while hidden_size_cur <= hidden_size_end:\n",
    "  mae_elm[0].append(hidden_size_cur)\n",
    "  r2_elm[0].append(hidden_size_cur)\n",
    "  mae_telm[0].append(hidden_size_cur)\n",
    "  r2_telm[0].append(hidden_size_cur)\n",
    "\n",
    "\n",
    "  # 创建elm模型对象\n",
    "  model_elm = ELM(input_dim=4225, hidden_dim=hidden_size_cur, output_dim=1)\n",
    "  model_telm = TELM(input_dim=4225, hidden_dim=hidden_size_cur, output_dim=1)\n",
    "  # 训练\n",
    "  model_elm.fit(train_data, train_gt)\n",
    "  model_telm.fit(train_data, train_gt)\n",
    "\n",
    "  # 评估\n",
    "  pred_elm = model_elm(val_data)\n",
    "  pred_telm = model_telm(val_data)\n",
    "\n",
    "  mae, r2 = evaluation(pred_elm, val_gt)\n",
    "  mae_elm[1].append(mae)\n",
    "  r2_elm[1].append(r2)\n",
    "\n",
    "  mae, r2 = evaluation(pred_telm, val_gt)\n",
    "  mae_telm[1].append(mae)\n",
    "  r2_telm[1].append(r2)\n",
    "  \n",
    "  # 设置间隔为200\n",
    "  hidden_size_cur += 1\n",
    "\n",
    "\n",
    "plot_mae_r2(mae_elm, r2_elm, mae_telm, r2_telm)"
   ]
  },
  {
   "cell_type": "code",
   "execution_count": 19,
   "metadata": {},
   "outputs": [],
   "source": [
    "# 创建elm模型对象\n",
    "model_elm = ELM(input_dim=4225, hidden_dim=3000, output_dim=1)\n",
    "model_telm = TELM(input_dim=4225, hidden_dim=3000, output_dim=1)\n",
    "# 训练\n",
    "model_elm.fit(train_data, train_gt)\n",
    "model_telm.fit(train_data, train_gt)\n",
    "\n",
    "# 评估\n",
    "pred_elm = model_elm(val_data)\n",
    "pred_telm = model_telm(val_data)"
   ]
  },
  {
   "cell_type": "code",
   "execution_count": 20,
   "metadata": {},
   "outputs": [
    {
     "data": {
      "text/plain": [
       "tensor(8.2164)"
      ]
     },
     "execution_count": 20,
     "metadata": {},
     "output_type": "execute_result"
    }
   ],
   "source": [
    "torch.abs(pred_telm-val_gt).mean()"
   ]
  },
  {
   "cell_type": "code",
   "execution_count": 21,
   "metadata": {},
   "outputs": [],
   "source": [
    "l1_loss = torch.nn.L1Loss()"
   ]
  },
  {
   "cell_type": "code",
   "execution_count": 22,
   "metadata": {},
   "outputs": [
    {
     "data": {
      "text/plain": [
       "tensor(8.2164)"
      ]
     },
     "execution_count": 22,
     "metadata": {},
     "output_type": "execute_result"
    }
   ],
   "source": [
    "l1_loss(pred_telm, val_gt)"
   ]
  },
  {
   "cell_type": "code",
   "execution_count": 23,
   "metadata": {},
   "outputs": [
    {
     "name": "stdout",
     "output_type": "stream",
     "text": [
      "真值：tensor([12.7000])， elm预测：tensor([14.4131])，telm预测：tensor([16.6602])\n",
      "真值：tensor([15.2200])， elm预测：tensor([18.6934])，telm预测：tensor([23.4336])\n",
      "真值：tensor([15.5000])， elm预测：tensor([6.3105])，telm预测：tensor([6.5508])\n",
      "真值：tensor([16.3300])， elm预测：tensor([2.5996])，telm预测：tensor([3.7891])\n",
      "真值：tensor([17.0300])， elm预测：tensor([2.7314])，telm预测：tensor([4.8555])\n",
      "真值：tensor([17.5900])， elm预测：tensor([28.6094])，telm预测：tensor([28.7539])\n",
      "真值：tensor([18.4300])， elm预测：tensor([17.6680])，telm预测：tensor([15.8359])\n",
      "真值：tensor([18.7100])， elm预测：tensor([31.6387])，telm预测：tensor([26.2188])\n",
      "真值：tensor([19.1300])， elm预测：tensor([16.9844])，telm预测：tensor([23.0703])\n",
      "真值：tensor([19.2600])， elm预测：tensor([23.0859])，telm预测：tensor([22.2656])\n",
      "真值：tensor([19.8200])， elm预测：tensor([32.8574])，telm预测：tensor([29.1055])\n",
      "真值：tensor([19.9600])， elm预测：tensor([22.4502])，telm预测：tensor([23.5820])\n",
      "真值：tensor([19.9600])， elm预测：tensor([26.7520])，telm预测：tensor([27.7734])\n",
      "真值：tensor([20.3800])， elm预测：tensor([40.6670])，telm预测：tensor([38.8164])\n",
      "真值：tensor([20.5200])， elm预测：tensor([23.4893])，telm预测：tensor([26.7656])\n",
      "真值：tensor([20.5200])， elm预测：tensor([24.0967])，telm预测：tensor([21.2773])\n",
      "真值：tensor([20.8000])， elm预测：tensor([22.3496])，telm预测：tensor([20.8945])\n",
      "真值：tensor([20.8000])， elm预测：tensor([28.5957])，telm预测：tensor([21.2383])\n",
      "真值：tensor([21.2200])， elm预测：tensor([21.2314])，telm预测：tensor([21.1523])\n",
      "真值：tensor([21.3600])， elm预测：tensor([19.6777])，telm预测：tensor([16.9102])\n",
      "真值：tensor([21.5000])， elm预测：tensor([15.2324])，telm预测：tensor([2.4727])\n",
      "真值：tensor([21.6400])， elm预测：tensor([25.2500])，telm预测：tensor([30.8320])\n",
      "真值：tensor([21.7800])， elm预测：tensor([34.4102])，telm预测：tensor([31.0781])\n",
      "真值：tensor([21.7800])， elm预测：tensor([26.1250])，telm预测：tensor([17.6367])\n",
      "真值：tensor([21.9200])， elm预测：tensor([10.9297])，telm预测：tensor([10.8438])\n",
      "真值：tensor([21.9200])， elm预测：tensor([21.8887])，telm预测：tensor([19.9258])\n",
      "真值：tensor([22.0600])， elm预测：tensor([-16.5195])，telm预测：tensor([3.1523])\n",
      "真值：tensor([22.2000])， elm预测：tensor([24.0566])，telm预测：tensor([24.3242])\n",
      "真值：tensor([22.4800])， elm预测：tensor([28.2500])，telm预测：tensor([28.5156])\n",
      "真值：tensor([22.6200])， elm预测：tensor([21.5020])，telm预测：tensor([22.5742])\n",
      "真值：tensor([22.6200])， elm预测：tensor([10.3140])，telm预测：tensor([8.8086])\n",
      "真值：tensor([22.7500])， elm预测：tensor([25.3906])，telm预测：tensor([19.9648])\n",
      "真值：tensor([22.8900])， elm预测：tensor([35.5469])，telm预测：tensor([35.6172])\n",
      "真值：tensor([22.8900])， elm预测：tensor([28.8340])，telm预测：tensor([29.1992])\n",
      "真值：tensor([23.0300])， elm预测：tensor([30.3623])，telm预测：tensor([29.6602])\n",
      "真值：tensor([23.1700])， elm预测：tensor([12.2227])，telm预测：tensor([6.0078])\n",
      "真值：tensor([23.3100])， elm预测：tensor([28.5312])，telm预测：tensor([20.5273])\n",
      "真值：tensor([23.3100])， elm预测：tensor([20.3281])，telm预测：tensor([22.2188])\n",
      "真值：tensor([23.4500])， elm预测：tensor([29.3984])，telm预测：tensor([30.5078])\n",
      "真值：tensor([23.4500])， elm预测：tensor([31.5811])，telm预测：tensor([30.5742])\n",
      "真值：tensor([23.5900])， elm预测：tensor([16.4570])，telm预测：tensor([12.0430])\n",
      "真值：tensor([23.5900])， elm预测：tensor([21.2529])，telm预测：tensor([22.9102])\n",
      "真值：tensor([23.8700])， elm预测：tensor([14.6104])，telm预测：tensor([11.1289])\n",
      "真值：tensor([23.8700])， elm预测：tensor([30.5752])，telm预测：tensor([32.0234])\n",
      "真值：tensor([24.0100])， elm预测：tensor([10.9180])，telm预测：tensor([17.3164])\n",
      "真值：tensor([24.1500])， elm预测：tensor([7.5410])，telm预测：tensor([4.9141])\n",
      "真值：tensor([24.1500])， elm预测：tensor([18.1572])，telm预测：tensor([22.0117])\n",
      "真值：tensor([24.2900])， elm预测：tensor([29.4961])，telm预测：tensor([29.6719])\n",
      "真值：tensor([24.4300])， elm预测：tensor([25.9707])，telm预测：tensor([21.8008])\n",
      "真值：tensor([24.5700])， elm预测：tensor([18.4277])，telm预测：tensor([21.])\n",
      "真值：tensor([24.5700])， elm预测：tensor([22.5996])，telm预测：tensor([23.6797])\n",
      "真值：tensor([24.7100])， elm预测：tensor([41.0137])，telm预测：tensor([45.5703])\n",
      "真值：tensor([24.8500])， elm预测：tensor([29.9990])，telm预测：tensor([30.5898])\n",
      "真值：tensor([24.9900])， elm预测：tensor([24.7939])，telm预测：tensor([14.7422])\n",
      "真值：tensor([25.2700])， elm预测：tensor([34.3467])，telm预测：tensor([34.0312])\n",
      "真值：tensor([25.4100])， elm预测：tensor([29.0605])，telm预测：tensor([26.6289])\n",
      "真值：tensor([25.4100])， elm预测：tensor([26.9463])，telm预测：tensor([24.3633])\n",
      "真值：tensor([25.5500])， elm预测：tensor([13.7793])，telm预测：tensor([13.9609])\n",
      "真值：tensor([25.6900])， elm预测：tensor([25.6562])，telm预测：tensor([27.5898])\n",
      "真值：tensor([25.8300])， elm预测：tensor([30.2441])，telm预测：tensor([15.2695])\n",
      "真值：tensor([25.9700])， elm预测：tensor([28.5840])，telm预测：tensor([33.9648])\n",
      "真值：tensor([25.9700])， elm预测：tensor([29.7773])，telm预测：tensor([30.8047])\n",
      "真值：tensor([26.1100])， elm预测：tensor([27.2383])，telm预测：tensor([32.8945])\n",
      "真值：tensor([26.1100])， elm预测：tensor([20.7637])，telm预测：tensor([21.5508])\n",
      "真值：tensor([26.2400])， elm预测：tensor([26.2715])，telm预测：tensor([24.7461])\n",
      "真值：tensor([26.3800])， elm预测：tensor([28.0127])，telm预测：tensor([27.5312])\n",
      "真值：tensor([26.5200])， elm预测：tensor([22.9512])，telm预测：tensor([24.9961])\n",
      "真值：tensor([26.6600])， elm预测：tensor([22.0781])，telm预测：tensor([20.8203])\n",
      "真值：tensor([26.8000])， elm预测：tensor([31.4629])，telm预测：tensor([26.8828])\n",
      "真值：tensor([26.8000])， elm预测：tensor([22.7002])，telm预测：tensor([22.5977])\n",
      "真值：tensor([26.9400])， elm预测：tensor([8.6611])，telm预测：tensor([14.0703])\n",
      "真值：tensor([26.9400])， elm预测：tensor([15.4189])，telm预测：tensor([16.5039])\n",
      "真值：tensor([27.0800])， elm预测：tensor([22.2949])，telm预测：tensor([15.2148])\n",
      "真值：tensor([27.0800])， elm预测：tensor([25.9805])，telm预测：tensor([24.4453])\n",
      "真值：tensor([27.3600])， elm预测：tensor([23.8125])，telm预测：tensor([18.5430])\n",
      "真值：tensor([27.3600])， elm预测：tensor([20.8125])，telm预测：tensor([-7.8652])\n",
      "真值：tensor([27.5000])， elm预测：tensor([30.6270])，telm预测：tensor([25.1367])\n",
      "真值：tensor([27.6400])， elm预测：tensor([20.1987])，telm预测：tensor([23.4531])\n",
      "真值：tensor([27.7800])， elm预测：tensor([27.3447])，telm预测：tensor([17.9180])\n",
      "真值：tensor([27.9200])， elm预测：tensor([27.5820])，telm预测：tensor([32.1133])\n",
      "真值：tensor([28.2000])， elm预测：tensor([26.7441])，telm预测：tensor([25.5391])\n",
      "真值：tensor([28.3400])， elm预测：tensor([16.8691])，telm预测：tensor([22.7070])\n",
      "真值：tensor([28.4800])， elm预测：tensor([30.0625])，telm预测：tensor([29.8516])\n",
      "真值：tensor([28.7600])， elm预测：tensor([36.2578])，telm预测：tensor([29.3594])\n",
      "真值：tensor([28.9000])， elm预测：tensor([27.9180])，telm预测：tensor([27.9688])\n",
      "真值：tensor([29.0400])， elm预测：tensor([26.9600])，telm预测：tensor([28.3984])\n",
      "真值：tensor([29.1800])， elm预测：tensor([26.5156])，telm预测：tensor([26.1992])\n",
      "真值：tensor([29.7300])， elm预测：tensor([24.6270])，telm预测：tensor([24.5273])\n",
      "真值：tensor([29.7300])， elm预测：tensor([12.2949])，telm预测：tensor([14.0469])\n",
      "真值：tensor([30.1500])， elm预测：tensor([28.7461])，telm预测：tensor([30.1523])\n",
      "真值：tensor([30.1500])， elm预测：tensor([32.4580])，telm预测：tensor([29.8477])\n",
      "真值：tensor([30.2900])， elm预测：tensor([31.1016])，telm预测：tensor([36.8164])\n",
      "真值：tensor([30.4300])， elm预测：tensor([18.4946])，telm预测：tensor([15.1797])\n",
      "真值：tensor([30.5700])， elm预测：tensor([34.8320])，telm预测：tensor([34.2461])\n",
      "真值：tensor([30.8500])， elm预测：tensor([31.7539])，telm预测：tensor([31.4492])\n",
      "真值：tensor([31.1300])， elm预测：tensor([30.8818])，telm预测：tensor([33.7461])\n",
      "真值：tensor([31.5500])， elm预测：tensor([-37.1045])，telm预测：tensor([-52.7383])\n",
      "真值：tensor([31.8300])， elm预测：tensor([-74.6885])，telm预测：tensor([-83.9180])\n",
      "真值：tensor([31.9700])， elm预测：tensor([29.5059])，telm预测：tensor([30.5117])\n",
      "真值：tensor([32.3900])， elm预测：tensor([34.2617])，telm预测：tensor([34.0547])\n",
      "真值：tensor([32.6700])， elm预测：tensor([29.3613])，telm预测：tensor([30.6523])\n",
      "真值：tensor([32.8100])， elm预测：tensor([19.9414])，telm预测：tensor([16.8594])\n",
      "真值：tensor([33.0900])， elm预测：tensor([24.9590])，telm预测：tensor([25.3555])\n",
      "真值：tensor([33.3600])， elm预测：tensor([32.5723])，telm预测：tensor([35.9570])\n",
      "真值：tensor([34.0600])， elm预测：tensor([36.9214])，telm预测：tensor([36.9678])\n",
      "真值：tensor([34.4800])， elm预测：tensor([28.8569])，telm预测：tensor([33.6788])\n"
     ]
    }
   ],
   "source": [
    "for i in range(pred_telm.__len__()):\n",
    "    print(\"真值：{}， elm预测：{}，telm预测：{}\".format(val_gt[i], pred_elm[i], pred_telm[i]))"
   ]
  },
  {
   "cell_type": "code",
   "execution_count": 24,
   "metadata": {},
   "outputs": [
    {
     "data": {
      "text/plain": [
       "torch.Size([106, 1])"
      ]
     },
     "execution_count": 24,
     "metadata": {},
     "output_type": "execute_result"
    }
   ],
   "source": [
    "pred_telm.shape"
   ]
  }
 ],
 "metadata": {
  "kernelspec": {
   "display_name": "pytorch",
   "language": "python",
   "name": "python3"
  },
  "language_info": {
   "codemirror_mode": {
    "name": "ipython",
    "version": 3
   },
   "file_extension": ".py",
   "mimetype": "text/x-python",
   "name": "python",
   "nbconvert_exporter": "python",
   "pygments_lexer": "ipython3",
   "version": "3.8.13"
  },
  "orig_nbformat": 4
 },
 "nbformat": 4,
 "nbformat_minor": 2
}
